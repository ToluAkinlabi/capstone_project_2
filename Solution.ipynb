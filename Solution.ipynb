{
 "cells": [
  {
   "cell_type": "markdown",
   "id": "3e8123de-c293-40cb-9dfa-febb3c7bdeb1",
   "metadata": {},
   "source": [
    "# Consolidated Machine Failure Analysis"
   ]
  },
  {
   "cell_type": "markdown",
   "id": "eb61de00-0b72-43b0-899a-ad729cf8d0e3",
   "metadata": {},
   "source": [
    "## Libraries"
   ]
  },
  {
   "cell_type": "code",
   "execution_count": 1,
   "id": "a865aa95-eb8b-4082-8a87-4c304681ea64",
   "metadata": {},
   "outputs": [],
   "source": [
    "# 3rd party\n",
    "import pandas as pd\n",
    "import numpy as np\n",
    "import matplotlib.pyplot as plt\n",
    "import seaborn as sns\n",
    "from sklearn.ensemble import RandomForestClassifier \n",
    "from sklearn.tree import DecisionTreeClassifier\n",
    "from sklearn.ensemble import GradientBoostingClassifier\n",
    "from sklearn.ensemble import ExtraTreesClassifier \n",
    "from sklearn.linear_model import LogisticRegression\n",
    "from sklearn.model_selection import train_test_split\n",
    "from sklearn.decomposition import PCA\n",
    "from sklearn.pipeline import Pipeline\n",
    "from sklearn import tree\n",
    "from sklearn.preprocessing import StandardScaler\n",
    "from sklearn.model_selection import GridSearchCV\n",
    "from sklearn.metrics import confusion_matrix, ConfusionMatrixDisplay, classification_report\n",
    "try:\n",
    "    import dtreeviz\n",
    "    %config InlineBackend.figure_format = 'retina' # Make visualizations look good\n",
    "except:\n",
    "    print('Please run \"conda uninstall python-graphviz; conda uninstall graphviz; pip install dtreeviz\" to install the tree visualization library')   \n",
    "%matplotlib inline\n",
    "\n",
    "# standard library\n",
    "import time\n",
    "\n",
    "# internal imports\n",
    "from exploratory_analysis import util  # make_difference_features, make_multiplicative_features, calculate_and_display_accuracy\n",
    "\n",
    "# constants\n",
    "RANDOM_SEED = 42\n",
    "TEST_SIZE = 0.2"
   ]
  },
  {
   "cell_type": "markdown",
   "id": "d1cc92b4-756e-455d-9803-82057e8a7805",
   "metadata": {},
   "source": [
    "## Preprocessing"
   ]
  },
  {
   "cell_type": "code",
   "execution_count": 16,
   "id": "c3cf9ea7-5db8-40cc-8368-7c185f02ccd3",
   "metadata": {},
   "outputs": [],
   "source": [
    "data = pd.read_csv(\"machine failure.csv\")\n",
    "\n",
    "# combine failure types into one overall failure column\n",
    "data['Machine failure'] = np.where((data['TWF'] == 1) | (data['HDF'] == 1) | (data['PWF'] == 1) | (data['OSF'] == 1), 1, 0)\n",
    "# drop unneeded columns\n",
    "data.drop(['UDI','Product ID', 'TWF', 'HDF', 'PWF', 'OSF', 'RNF'], axis=1, inplace=True)\n",
    "\n",
    "# add interaction features\n",
    "subtraction_columns = util.make_difference_features(data.drop(columns=['Machine failure', 'Type']))\n",
    "multiplication_columns = util.make_multiplicative_features(data.drop(columns=['Machine failure', 'Type']))\n",
    "data = pd.concat([data, subtraction_columns, multiplication_columns], axis=1)\n",
    "\n",
    "# perform different methods of transforming the quality\n",
    "mapped_data = data.copy()\n",
    "dummied_data = data.copy()"
   ]
  },
  {
   "cell_type": "markdown",
   "id": "d92e8e3c-1969-4a70-aaea-2f843d6051e4",
   "metadata": {},
   "source": [
    "#### Mapping the quality type without one-hot encoding"
   ]
  },
  {
   "cell_type": "code",
   "execution_count": 17,
   "id": "0c50197b-ad26-46ea-ab5b-712db01f6dfe",
   "metadata": {},
   "outputs": [],
   "source": [
    "# directly map the quality type without one-hot encoding\n",
    "quality_map = {'L': 1, 'M': 2, 'H': 3}\n",
    "mapped_data['Type'] = mapped_data['Type'].map(quality_map)"
   ]
  },
  {
   "cell_type": "markdown",
   "id": "48b2a1bb-90ae-4f8e-ad3c-1028cc230b0e",
   "metadata": {},
   "source": [
    "#### One-hot encoding the quality type"
   ]
  },
  {
   "cell_type": "code",
   "execution_count": 18,
   "id": "c1c2ea40-b427-4fea-8e41-09849ef6fadf",
   "metadata": {},
   "outputs": [],
   "source": [
    "# one-hot encode the quality type\n",
    "dummied_data = pd.get_dummies(dummied_data, columns=['Type',])"
   ]
  },
  {
   "cell_type": "markdown",
   "id": "366f1625-bc95-4cbf-ae52-3a014ddf6d4c",
   "metadata": {},
   "source": [
    "## Splitting"
   ]
  },
  {
   "cell_type": "code",
   "execution_count": 20,
   "id": "51d9b732-fcfd-422b-8609-0b565a1d346c",
   "metadata": {},
   "outputs": [],
   "source": [
    "# split the mapped data\n",
    "X_map = mapped_data.drop(columns='Machine failure')\n",
    "y_map = mapped_data['Machine failure']\n",
    "X_map_train, X_map_test, y_map_train, y_map_test = train_test_split(X_map, y_map, test_size=TEST_SIZE, random_state=RANDOM_SEED, stratify=y_map)\n",
    "\n",
    "# split the one-hot encoded data\n",
    "X_dummy = dummied_data.drop(columns='Machine failure')\n",
    "y_dummy = dummied_data['Machine failure']\n",
    "X_dummy_train, X_dummy_test, y_dummy_train, y_dummy_test = train_test_split(X_dummy, y_dummy, test_size=TEST_SIZE, random_state=RANDOM_SEED, stratify=y_dummy)\n"
   ]
  },
  {
   "cell_type": "markdown",
   "id": "2d1d3d81-858d-4a30-84e3-2906fbd5a74c",
   "metadata": {},
   "source": [
    "## Standardizing"
   ]
  },
  {
   "cell_type": "code",
   "execution_count": 22,
   "id": "a320a854-2123-4687-80c8-d3b3f4a5c7c6",
   "metadata": {},
   "outputs": [],
   "source": [
    "# standardize the mapped data\n",
    "scaler = StandardScaler()\n",
    "columns_to_scale = list(X_map_train.columns)\n",
    "columns_to_scale.remove('Type')                # type is not numerical and more categorical\n",
    "\n",
    "X_map_train[columns_to_scale] = scaler.fit_transform(X_map_train[columns_to_scale])\n",
    "X_map_test[columns_to_scale] = scaler.transform(X_map_test[columns_to_scale])\n",
    "\n",
    "# standardize the dummied data\n",
    "X_dummy_train = scaler.fit_transform(X_dummy_train)\n",
    "X_dummy_test = scaler.transform(X_dummy_test)"
   ]
  },
  {
   "cell_type": "markdown",
   "id": "24cd0e37-6c6d-45fa-a793-33f62af8cf0c",
   "metadata": {},
   "source": [
    "## Testing Model Performance"
   ]
  },
  {
   "cell_type": "markdown",
   "id": "dd4ee194-d584-419f-a0e0-8b68314144a0",
   "metadata": {},
   "source": [
    "### Neural Networks"
   ]
  },
  {
   "cell_type": "markdown",
   "id": "7bca0c9e-bfda-4020-a097-ce2a5745e34a",
   "metadata": {},
   "source": [
    "### Logistic Regression"
   ]
  },
  {
   "cell_type": "markdown",
   "id": "28968005-5df0-4899-b9bc-18db6a2b5083",
   "metadata": {},
   "source": [
    "### Decision Tree"
   ]
  },
  {
   "cell_type": "markdown",
   "id": "5f7aa2b1-0bb6-4864-8346-0f6f9c62cbbe",
   "metadata": {},
   "source": [
    "### Isolation Forest"
   ]
  },
  {
   "cell_type": "markdown",
   "id": "30909e22-08af-45a9-8c09-29d31e20dacb",
   "metadata": {},
   "source": [
    "### Support Vector Machine"
   ]
  },
  {
   "cell_type": "markdown",
   "id": "0f43db11-3539-4824-8029-79bff2334bac",
   "metadata": {},
   "source": [
    "### Random Forest"
   ]
  },
  {
   "cell_type": "code",
   "execution_count": 26,
   "id": "d28bff13-4180-4c6c-a344-13f72382089a",
   "metadata": {},
   "outputs": [
    {
     "data": {
      "text/html": [
       "<style>#sk-container-id-1 {color: black;}#sk-container-id-1 pre{padding: 0;}#sk-container-id-1 div.sk-toggleable {background-color: white;}#sk-container-id-1 label.sk-toggleable__label {cursor: pointer;display: block;width: 100%;margin-bottom: 0;padding: 0.3em;box-sizing: border-box;text-align: center;}#sk-container-id-1 label.sk-toggleable__label-arrow:before {content: \"▸\";float: left;margin-right: 0.25em;color: #696969;}#sk-container-id-1 label.sk-toggleable__label-arrow:hover:before {color: black;}#sk-container-id-1 div.sk-estimator:hover label.sk-toggleable__label-arrow:before {color: black;}#sk-container-id-1 div.sk-toggleable__content {max-height: 0;max-width: 0;overflow: hidden;text-align: left;background-color: #f0f8ff;}#sk-container-id-1 div.sk-toggleable__content pre {margin: 0.2em;color: black;border-radius: 0.25em;background-color: #f0f8ff;}#sk-container-id-1 input.sk-toggleable__control:checked~div.sk-toggleable__content {max-height: 200px;max-width: 100%;overflow: auto;}#sk-container-id-1 input.sk-toggleable__control:checked~label.sk-toggleable__label-arrow:before {content: \"▾\";}#sk-container-id-1 div.sk-estimator input.sk-toggleable__control:checked~label.sk-toggleable__label {background-color: #d4ebff;}#sk-container-id-1 div.sk-label input.sk-toggleable__control:checked~label.sk-toggleable__label {background-color: #d4ebff;}#sk-container-id-1 input.sk-hidden--visually {border: 0;clip: rect(1px 1px 1px 1px);clip: rect(1px, 1px, 1px, 1px);height: 1px;margin: -1px;overflow: hidden;padding: 0;position: absolute;width: 1px;}#sk-container-id-1 div.sk-estimator {font-family: monospace;background-color: #f0f8ff;border: 1px dotted black;border-radius: 0.25em;box-sizing: border-box;margin-bottom: 0.5em;}#sk-container-id-1 div.sk-estimator:hover {background-color: #d4ebff;}#sk-container-id-1 div.sk-parallel-item::after {content: \"\";width: 100%;border-bottom: 1px solid gray;flex-grow: 1;}#sk-container-id-1 div.sk-label:hover label.sk-toggleable__label {background-color: #d4ebff;}#sk-container-id-1 div.sk-serial::before {content: \"\";position: absolute;border-left: 1px solid gray;box-sizing: border-box;top: 0;bottom: 0;left: 50%;z-index: 0;}#sk-container-id-1 div.sk-serial {display: flex;flex-direction: column;align-items: center;background-color: white;padding-right: 0.2em;padding-left: 0.2em;position: relative;}#sk-container-id-1 div.sk-item {position: relative;z-index: 1;}#sk-container-id-1 div.sk-parallel {display: flex;align-items: stretch;justify-content: center;background-color: white;position: relative;}#sk-container-id-1 div.sk-item::before, #sk-container-id-1 div.sk-parallel-item::before {content: \"\";position: absolute;border-left: 1px solid gray;box-sizing: border-box;top: 0;bottom: 0;left: 50%;z-index: -1;}#sk-container-id-1 div.sk-parallel-item {display: flex;flex-direction: column;z-index: 1;position: relative;background-color: white;}#sk-container-id-1 div.sk-parallel-item:first-child::after {align-self: flex-end;width: 50%;}#sk-container-id-1 div.sk-parallel-item:last-child::after {align-self: flex-start;width: 50%;}#sk-container-id-1 div.sk-parallel-item:only-child::after {width: 0;}#sk-container-id-1 div.sk-dashed-wrapped {border: 1px dashed gray;margin: 0 0.4em 0.5em 0.4em;box-sizing: border-box;padding-bottom: 0.4em;background-color: white;}#sk-container-id-1 div.sk-label label {font-family: monospace;font-weight: bold;display: inline-block;line-height: 1.2em;}#sk-container-id-1 div.sk-label-container {text-align: center;}#sk-container-id-1 div.sk-container {/* jupyter's `normalize.less` sets `[hidden] { display: none; }` but bootstrap.min.css set `[hidden] { display: none !important; }` so we also need the `!important` here to be able to override the default hidden behavior on the sphinx rendered scikit-learn.org. See: https://github.com/scikit-learn/scikit-learn/issues/21755 */display: inline-block !important;position: relative;}#sk-container-id-1 div.sk-text-repr-fallback {display: none;}</style><div id=\"sk-container-id-1\" class=\"sk-top-container\"><div class=\"sk-text-repr-fallback\"><pre>RandomForestClassifier(max_depth=13, max_features=0.88, min_samples_leaf=5,\n",
       "                       n_estimators=115, n_jobs=-1, random_state=42)</pre><b>In a Jupyter environment, please rerun this cell to show the HTML representation or trust the notebook. <br />On GitHub, the HTML representation is unable to render, please try loading this page with nbviewer.org.</b></div><div class=\"sk-container\" hidden><div class=\"sk-item\"><div class=\"sk-estimator sk-toggleable\"><input class=\"sk-toggleable__control sk-hidden--visually\" id=\"sk-estimator-id-1\" type=\"checkbox\" checked><label for=\"sk-estimator-id-1\" class=\"sk-toggleable__label sk-toggleable__label-arrow\">RandomForestClassifier</label><div class=\"sk-toggleable__content\"><pre>RandomForestClassifier(max_depth=13, max_features=0.88, min_samples_leaf=5,\n",
       "                       n_estimators=115, n_jobs=-1, random_state=42)</pre></div></div></div></div></div>"
      ],
      "text/plain": [
       "RandomForestClassifier(max_depth=13, max_features=0.88, min_samples_leaf=5,\n",
       "                       n_estimators=115, n_jobs=-1, random_state=42)"
      ]
     },
     "execution_count": 26,
     "metadata": {},
     "output_type": "execute_result"
    }
   ],
   "source": [
    "rf_model = RandomForestClassifier(random_state=RANDOM_SEED, n_jobs=-1, max_depth=13, max_features=0.88,\n",
    "                                  min_samples_leaf=5, n_estimators=115)\n",
    "rf_model.fit(X_map_train, y_map_train)"
   ]
  },
  {
   "cell_type": "code",
   "execution_count": 27,
   "id": "071ffc44-b934-4264-9162-43da4c993c00",
   "metadata": {},
   "outputs": [
    {
     "name": "stdout",
     "output_type": "stream",
     "text": [
      "Model Training accuracy:                                   0.9952\n",
      "Model Test accuracy:                                       0.9945\n",
      "Baseline, Naive model (always guess 0) training accuracy:  0.967\n",
      "Baseline, Naive model (always guess 0) test accuracy:      0.967\n"
     ]
    },
    {
     "data": {
      "text/plain": [
       "(0.99525, 0.9945, 0.967, 0.967)"
      ]
     },
     "execution_count": 27,
     "metadata": {},
     "output_type": "execute_result"
    }
   ],
   "source": [
    "util.calculate_and_display_accuracy(rf_model, X_map_train, y_map_train, X_map_test, y_map_test)"
   ]
  },
  {
   "cell_type": "code",
   "execution_count": 28,
   "id": "dbc1cbe7-4a95-4f74-a628-a1261ec73bb5",
   "metadata": {},
   "outputs": [],
   "source": [
    "test_predictions = rf_model.predict(X_map_test)"
   ]
  },
  {
   "cell_type": "code",
   "execution_count": 33,
   "id": "40e805ac-f7c5-4906-b7ae-4a72b5c1289e",
   "metadata": {},
   "outputs": [
    {
     "data": {
      "text/plain": [
       "<sklearn.metrics._plot.confusion_matrix.ConfusionMatrixDisplay at 0x1c0a3f0da30>"
      ]
     },
     "execution_count": 33,
     "metadata": {},
     "output_type": "execute_result"
    },
    {
     "data": {
      "image/png": "[encoded data removed]",
      "text/plain": [
       "<Figure size 640x480 with 2 Axes>"
      ]
     },
     "metadata": {
      "image/png": {
       "height": 432,
       "width": 515
      }
     },
     "output_type": "display_data"
    }
   ],
   "source": [
    "cm = confusion_matrix(y_map_test, test_predictions, labels=rf_model.classes_)\n",
    "disp = ConfusionMatrixDisplay(confusion_matrix=cm, display_labels=rf_model.classes_)\n",
    "disp.plot()\n",
    "#plt.savefig('random_forest_test_confusion_matrix.svg', format='svg', bbox_inches='tight')"
   ]
  },
  {
   "cell_type": "code",
   "execution_count": 30,
   "id": "4eac7627-2ead-491d-9840-241a488acb3f",
   "metadata": {},
   "outputs": [
    {
     "name": "stdout",
     "output_type": "stream",
     "text": [
      "              precision    recall  f1-score   support\n",
      "\n",
      "           0       1.00      1.00      1.00      1934\n",
      "           1       0.97      0.86      0.91        66\n",
      "\n",
      "    accuracy                           0.99      2000\n",
      "   macro avg       0.98      0.93      0.95      2000\n",
      "weighted avg       0.99      0.99      0.99      2000\n",
      "\n"
     ]
    }
   ],
   "source": [
    "print(classification_report(y_map_test, test_predictions))"
   ]
  },
  {
   "cell_type": "code",
   "execution_count": null,
   "id": "2a7aca09-0d36-4e6e-be33-9c5b8f7e8bba",
   "metadata": {},
   "outputs": [],
   "source": [
    "### Neural Ne"
   ]
  }
 ],
 "metadata": {
  "kernelspec": {
   "display_name": "Python 3 (ipykernel)",
   "language": "python",
   "name": "python3"
  },
  "language_info": {
   "codemirror_mode": {
    "name": "ipython",
    "version": 3
   },
   "file_extension": ".py",
   "mimetype": "text/x-python",
   "name": "python",
   "nbconvert_exporter": "python",
   "pygments_lexer": "ipython3",
   "version": "3.9.18"
  }
 },
 "nbformat": 4,
 "nbformat_minor": 5
}
