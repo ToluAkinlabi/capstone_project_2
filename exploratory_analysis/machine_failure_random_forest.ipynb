{
 "cells": [
  {
   "cell_type": "markdown",
   "id": "9b02f52e-dea2-498a-9940-58faa18127e9",
   "metadata": {
    "tags": []
   },
   "source": [
    "# EDA of Random Forest Classifier on Machine Failure"
   ]
  },
  {
   "cell_type": "markdown",
   "id": "7c1ec9ca-8329-4ba2-9db2-bac9af516caf",
   "metadata": {
    "jp-MarkdownHeadingCollapsed": true,
    "tags": []
   },
   "source": [
    "## libraries"
   ]
  },
  {
   "cell_type": "code",
   "execution_count": 103,
   "id": "29124d86-0fc6-427c-a71a-9f055a739088",
   "metadata": {
    "tags": []
   },
   "outputs": [],
   "source": [
    "# 3rd party\n",
    "import pandas as pd\n",
    "import numpy as np\n",
    "import matplotlib.pyplot as plt\n",
    "import seaborn as sns\n",
    "from sklearn.model_selection import train_test_split\n",
    "from sklearn.metrics import accuracy_score\n",
    "from sklearn.decomposition import PCA\n",
    "from sklearn.ensemble import RandomForestClassifier\n",
    "from sklearn.model_selection import train_test_split\n",
    "from sklearn.preprocessing import StandardScaler, OneHotEncoder\n",
    "from imblearn.over_sampling import SMOTE, ADASYN\n",
    "\n",
    "# constants\n",
    "RANDOM_SEED = 42"
   ]
  },
  {
   "cell_type": "markdown",
   "id": "38941b60-d890-443c-a531-ca5fd662d7f8",
   "metadata": {
    "jp-MarkdownHeadingCollapsed": true,
    "tags": []
   },
   "source": [
    "## exploration"
   ]
  },
  {
   "cell_type": "code",
   "execution_count": 3,
   "id": "4e43f2d2-6f90-4937-b216-ca336dee6310",
   "metadata": {
    "tags": []
   },
   "outputs": [],
   "source": [
    "df = pd.read_csv('../data/machine_failure.csv', index_col=0)"
   ]
  },
  {
   "cell_type": "code",
   "execution_count": 4,
   "id": "efd0b144-8412-46cf-a121-e6c35b6c4a5e",
   "metadata": {
    "tags": []
   },
   "outputs": [
    {
     "data": {
      "text/html": [
       "<div>\n",
       "<style scoped>\n",
       "    .dataframe tbody tr th:only-of-type {\n",
       "        vertical-align: middle;\n",
       "    }\n",
       "\n",
       "    .dataframe tbody tr th {\n",
       "        vertical-align: top;\n",
       "    }\n",
       "\n",
       "    .dataframe thead th {\n",
       "        text-align: right;\n",
       "    }\n",
       "</style>\n",
       "<table border=\"1\" class=\"dataframe\">\n",
       "  <thead>\n",
       "    <tr style=\"text-align: right;\">\n",
       "      <th></th>\n",
       "      <th>Product ID</th>\n",
       "      <th>Type</th>\n",
       "      <th>Air temperature [K]</th>\n",
       "      <th>Process temperature [K]</th>\n",
       "      <th>Rotational speed [rpm]</th>\n",
       "      <th>Torque [Nm]</th>\n",
       "      <th>Tool wear [min]</th>\n",
       "      <th>Machine failure</th>\n",
       "      <th>TWF</th>\n",
       "      <th>HDF</th>\n",
       "      <th>PWF</th>\n",
       "      <th>OSF</th>\n",
       "      <th>RNF</th>\n",
       "    </tr>\n",
       "    <tr>\n",
       "      <th>UDI</th>\n",
       "      <th></th>\n",
       "      <th></th>\n",
       "      <th></th>\n",
       "      <th></th>\n",
       "      <th></th>\n",
       "      <th></th>\n",
       "      <th></th>\n",
       "      <th></th>\n",
       "      <th></th>\n",
       "      <th></th>\n",
       "      <th></th>\n",
       "      <th></th>\n",
       "      <th></th>\n",
       "    </tr>\n",
       "  </thead>\n",
       "  <tbody>\n",
       "    <tr>\n",
       "      <th>1</th>\n",
       "      <td>M14860</td>\n",
       "      <td>M</td>\n",
       "      <td>298.1</td>\n",
       "      <td>308.6</td>\n",
       "      <td>1551</td>\n",
       "      <td>42.8</td>\n",
       "      <td>0</td>\n",
       "      <td>0</td>\n",
       "      <td>0</td>\n",
       "      <td>0</td>\n",
       "      <td>0</td>\n",
       "      <td>0</td>\n",
       "      <td>0</td>\n",
       "    </tr>\n",
       "    <tr>\n",
       "      <th>2</th>\n",
       "      <td>L47181</td>\n",
       "      <td>L</td>\n",
       "      <td>298.2</td>\n",
       "      <td>308.7</td>\n",
       "      <td>1408</td>\n",
       "      <td>46.3</td>\n",
       "      <td>3</td>\n",
       "      <td>0</td>\n",
       "      <td>0</td>\n",
       "      <td>0</td>\n",
       "      <td>0</td>\n",
       "      <td>0</td>\n",
       "      <td>0</td>\n",
       "    </tr>\n",
       "  </tbody>\n",
       "</table>\n",
       "</div>"
      ],
      "text/plain": [
       "    Product ID Type  Air temperature [K]  Process temperature [K]  \\\n",
       "UDI                                                                 \n",
       "1       M14860    M                298.1                    308.6   \n",
       "2       L47181    L                298.2                    308.7   \n",
       "\n",
       "     Rotational speed [rpm]  Torque [Nm]  Tool wear [min]  Machine failure  \\\n",
       "UDI                                                                          \n",
       "1                      1551         42.8                0                0   \n",
       "2                      1408         46.3                3                0   \n",
       "\n",
       "     TWF  HDF  PWF  OSF  RNF  \n",
       "UDI                           \n",
       "1      0    0    0    0    0  \n",
       "2      0    0    0    0    0  "
      ]
     },
     "execution_count": 4,
     "metadata": {},
     "output_type": "execute_result"
    }
   ],
   "source": [
    "df.head(2)"
   ]
  },
  {
   "cell_type": "code",
   "execution_count": 5,
   "id": "82118dff-6e0c-40a7-a792-d890c6238d9f",
   "metadata": {
    "tags": []
   },
   "outputs": [
    {
     "data": {
      "text/plain": [
       "TWF  HDF  PWF  OSF  RNF\n",
       "0    0    0    0    0      9652\n",
       "     1    0    0    0       106\n",
       "     0    1    0    0        80\n",
       "          0    1    0        78\n",
       "1    0    0    0    0        42\n",
       "0    0    0    0    1        18\n",
       "          1    1    0        11\n",
       "     1    0    1    0         6\n",
       "          1    0    0         3\n",
       "1    0    0    1    0         2\n",
       "               0    1         1\n",
       "          1    1    0         1\n",
       "dtype: int64"
      ]
     },
     "execution_count": 5,
     "metadata": {},
     "output_type": "execute_result"
    }
   ],
   "source": [
    "df[['TWF', 'HDF', 'PWF', 'OSF', 'RNF']].value_counts()"
   ]
  },
  {
   "cell_type": "code",
   "execution_count": 8,
   "id": "2fe7299f-fb23-49f4-92fb-c148ac6e82ca",
   "metadata": {
    "tags": []
   },
   "outputs": [
    {
     "name": "stdout",
     "output_type": "stream",
     "text": [
      "---Failures by Type---\n",
      "twf hdf pwf osf rnf\n",
      "46  115 95  98  19 \n"
     ]
    }
   ],
   "source": [
    "print('---Failures by Type---')\n",
    "print('twf', 'hdf', 'pwf', 'osf', 'rnf')\n",
    "print(f\"{len(df[df['TWF'] == 1]):<3}\", f\"{len(df[df['HDF'] == 1]):<3}\", f\"{len(df[df['PWF'] == 1]):<3}\", f\"{len(df[df['OSF'] == 1]):<3}\", f\"{len(df[df['RNF'] == 1]):<3}\")\n"
   ]
  },
  {
   "cell_type": "code",
   "execution_count": 9,
   "id": "465a2d4c-5e57-484d-88e7-255c05646636",
   "metadata": {
    "tags": []
   },
   "outputs": [
    {
     "data": {
      "text/plain": [
       "0    9661\n",
       "1     339\n",
       "Name: Machine failure, dtype: int64"
      ]
     },
     "execution_count": 9,
     "metadata": {},
     "output_type": "execute_result"
    }
   ],
   "source": [
    "df['Machine failure'].value_counts()"
   ]
  },
  {
   "cell_type": "code",
   "execution_count": 10,
   "id": "3bb60216-4298-4302-b252-e0e8c06e6292",
   "metadata": {
    "tags": []
   },
   "outputs": [],
   "source": [
    "a_failure = df[(df['TWF'] == 1) | (df['HDF'] == 1) |  (df['PWF'] == 1) | (df['OSF'] == 1) |  (df['RNF'] == 1)]"
   ]
  },
  {
   "cell_type": "code",
   "execution_count": 11,
   "id": "6e1fb5a6-db71-4d95-9575-f0c4f40da60b",
   "metadata": {
    "tags": []
   },
   "outputs": [
    {
     "data": {
      "text/html": [
       "<div>\n",
       "<style scoped>\n",
       "    .dataframe tbody tr th:only-of-type {\n",
       "        vertical-align: middle;\n",
       "    }\n",
       "\n",
       "    .dataframe tbody tr th {\n",
       "        vertical-align: top;\n",
       "    }\n",
       "\n",
       "    .dataframe thead th {\n",
       "        text-align: right;\n",
       "    }\n",
       "</style>\n",
       "<table border=\"1\" class=\"dataframe\">\n",
       "  <thead>\n",
       "    <tr style=\"text-align: right;\">\n",
       "      <th></th>\n",
       "      <th>Product ID</th>\n",
       "      <th>Type</th>\n",
       "      <th>Air temperature [K]</th>\n",
       "      <th>Process temperature [K]</th>\n",
       "      <th>Rotational speed [rpm]</th>\n",
       "      <th>Torque [Nm]</th>\n",
       "      <th>Tool wear [min]</th>\n",
       "      <th>Machine failure</th>\n",
       "      <th>TWF</th>\n",
       "      <th>HDF</th>\n",
       "      <th>PWF</th>\n",
       "      <th>OSF</th>\n",
       "      <th>RNF</th>\n",
       "    </tr>\n",
       "    <tr>\n",
       "      <th>UDI</th>\n",
       "      <th></th>\n",
       "      <th></th>\n",
       "      <th></th>\n",
       "      <th></th>\n",
       "      <th></th>\n",
       "      <th></th>\n",
       "      <th></th>\n",
       "      <th></th>\n",
       "      <th></th>\n",
       "      <th></th>\n",
       "      <th></th>\n",
       "      <th></th>\n",
       "      <th></th>\n",
       "    </tr>\n",
       "  </thead>\n",
       "  <tbody>\n",
       "    <tr>\n",
       "      <th>1222</th>\n",
       "      <td>M16081</td>\n",
       "      <td>M</td>\n",
       "      <td>297.0</td>\n",
       "      <td>308.3</td>\n",
       "      <td>1399</td>\n",
       "      <td>46.4</td>\n",
       "      <td>132</td>\n",
       "      <td>0</td>\n",
       "      <td>0</td>\n",
       "      <td>0</td>\n",
       "      <td>0</td>\n",
       "      <td>0</td>\n",
       "      <td>1</td>\n",
       "    </tr>\n",
       "    <tr>\n",
       "      <th>1303</th>\n",
       "      <td>L48482</td>\n",
       "      <td>L</td>\n",
       "      <td>298.6</td>\n",
       "      <td>309.8</td>\n",
       "      <td>1505</td>\n",
       "      <td>45.7</td>\n",
       "      <td>144</td>\n",
       "      <td>0</td>\n",
       "      <td>0</td>\n",
       "      <td>0</td>\n",
       "      <td>0</td>\n",
       "      <td>0</td>\n",
       "      <td>1</td>\n",
       "    </tr>\n",
       "    <tr>\n",
       "      <th>1749</th>\n",
       "      <td>H31162</td>\n",
       "      <td>H</td>\n",
       "      <td>298.4</td>\n",
       "      <td>307.7</td>\n",
       "      <td>1626</td>\n",
       "      <td>31.1</td>\n",
       "      <td>166</td>\n",
       "      <td>0</td>\n",
       "      <td>0</td>\n",
       "      <td>0</td>\n",
       "      <td>0</td>\n",
       "      <td>0</td>\n",
       "      <td>1</td>\n",
       "    </tr>\n",
       "    <tr>\n",
       "      <th>2073</th>\n",
       "      <td>L49252</td>\n",
       "      <td>L</td>\n",
       "      <td>299.6</td>\n",
       "      <td>309.5</td>\n",
       "      <td>1570</td>\n",
       "      <td>35.5</td>\n",
       "      <td>189</td>\n",
       "      <td>0</td>\n",
       "      <td>0</td>\n",
       "      <td>0</td>\n",
       "      <td>0</td>\n",
       "      <td>0</td>\n",
       "      <td>1</td>\n",
       "    </tr>\n",
       "    <tr>\n",
       "      <th>2560</th>\n",
       "      <td>L49739</td>\n",
       "      <td>L</td>\n",
       "      <td>299.3</td>\n",
       "      <td>309.0</td>\n",
       "      <td>1447</td>\n",
       "      <td>50.4</td>\n",
       "      <td>140</td>\n",
       "      <td>0</td>\n",
       "      <td>0</td>\n",
       "      <td>0</td>\n",
       "      <td>0</td>\n",
       "      <td>0</td>\n",
       "      <td>1</td>\n",
       "    </tr>\n",
       "    <tr>\n",
       "      <th>3066</th>\n",
       "      <td>M17925</td>\n",
       "      <td>M</td>\n",
       "      <td>300.1</td>\n",
       "      <td>309.2</td>\n",
       "      <td>1687</td>\n",
       "      <td>27.7</td>\n",
       "      <td>95</td>\n",
       "      <td>0</td>\n",
       "      <td>0</td>\n",
       "      <td>0</td>\n",
       "      <td>0</td>\n",
       "      <td>0</td>\n",
       "      <td>1</td>\n",
       "    </tr>\n",
       "    <tr>\n",
       "      <th>3453</th>\n",
       "      <td>H32866</td>\n",
       "      <td>H</td>\n",
       "      <td>301.6</td>\n",
       "      <td>310.5</td>\n",
       "      <td>1602</td>\n",
       "      <td>32.3</td>\n",
       "      <td>2</td>\n",
       "      <td>0</td>\n",
       "      <td>0</td>\n",
       "      <td>0</td>\n",
       "      <td>0</td>\n",
       "      <td>0</td>\n",
       "      <td>1</td>\n",
       "    </tr>\n",
       "    <tr>\n",
       "      <th>5472</th>\n",
       "      <td>L52651</td>\n",
       "      <td>L</td>\n",
       "      <td>302.7</td>\n",
       "      <td>312.3</td>\n",
       "      <td>1346</td>\n",
       "      <td>61.2</td>\n",
       "      <td>170</td>\n",
       "      <td>0</td>\n",
       "      <td>0</td>\n",
       "      <td>0</td>\n",
       "      <td>0</td>\n",
       "      <td>0</td>\n",
       "      <td>1</td>\n",
       "    </tr>\n",
       "    <tr>\n",
       "      <th>5490</th>\n",
       "      <td>L52669</td>\n",
       "      <td>L</td>\n",
       "      <td>302.6</td>\n",
       "      <td>312.1</td>\n",
       "      <td>1499</td>\n",
       "      <td>35.0</td>\n",
       "      <td>215</td>\n",
       "      <td>0</td>\n",
       "      <td>0</td>\n",
       "      <td>0</td>\n",
       "      <td>0</td>\n",
       "      <td>0</td>\n",
       "      <td>1</td>\n",
       "    </tr>\n",
       "    <tr>\n",
       "      <th>5496</th>\n",
       "      <td>H34909</td>\n",
       "      <td>H</td>\n",
       "      <td>302.9</td>\n",
       "      <td>312.5</td>\n",
       "      <td>1357</td>\n",
       "      <td>55.0</td>\n",
       "      <td>12</td>\n",
       "      <td>0</td>\n",
       "      <td>0</td>\n",
       "      <td>0</td>\n",
       "      <td>0</td>\n",
       "      <td>0</td>\n",
       "      <td>1</td>\n",
       "    </tr>\n",
       "    <tr>\n",
       "      <th>5510</th>\n",
       "      <td>L52689</td>\n",
       "      <td>L</td>\n",
       "      <td>302.8</td>\n",
       "      <td>312.2</td>\n",
       "      <td>1509</td>\n",
       "      <td>36.5</td>\n",
       "      <td>52</td>\n",
       "      <td>0</td>\n",
       "      <td>0</td>\n",
       "      <td>0</td>\n",
       "      <td>0</td>\n",
       "      <td>0</td>\n",
       "      <td>1</td>\n",
       "    </tr>\n",
       "    <tr>\n",
       "      <th>5554</th>\n",
       "      <td>L52733</td>\n",
       "      <td>L</td>\n",
       "      <td>302.5</td>\n",
       "      <td>311.9</td>\n",
       "      <td>1306</td>\n",
       "      <td>59.7</td>\n",
       "      <td>172</td>\n",
       "      <td>0</td>\n",
       "      <td>0</td>\n",
       "      <td>0</td>\n",
       "      <td>0</td>\n",
       "      <td>0</td>\n",
       "      <td>1</td>\n",
       "    </tr>\n",
       "    <tr>\n",
       "      <th>5640</th>\n",
       "      <td>L52819</td>\n",
       "      <td>L</td>\n",
       "      <td>302.6</td>\n",
       "      <td>312.1</td>\n",
       "      <td>1668</td>\n",
       "      <td>28.7</td>\n",
       "      <td>180</td>\n",
       "      <td>0</td>\n",
       "      <td>0</td>\n",
       "      <td>0</td>\n",
       "      <td>0</td>\n",
       "      <td>0</td>\n",
       "      <td>1</td>\n",
       "    </tr>\n",
       "    <tr>\n",
       "      <th>6092</th>\n",
       "      <td>L53271</td>\n",
       "      <td>L</td>\n",
       "      <td>300.9</td>\n",
       "      <td>310.7</td>\n",
       "      <td>1412</td>\n",
       "      <td>57.5</td>\n",
       "      <td>16</td>\n",
       "      <td>0</td>\n",
       "      <td>0</td>\n",
       "      <td>0</td>\n",
       "      <td>0</td>\n",
       "      <td>0</td>\n",
       "      <td>1</td>\n",
       "    </tr>\n",
       "    <tr>\n",
       "      <th>6914</th>\n",
       "      <td>L54093</td>\n",
       "      <td>L</td>\n",
       "      <td>300.8</td>\n",
       "      <td>311.2</td>\n",
       "      <td>1481</td>\n",
       "      <td>38.5</td>\n",
       "      <td>181</td>\n",
       "      <td>0</td>\n",
       "      <td>0</td>\n",
       "      <td>0</td>\n",
       "      <td>0</td>\n",
       "      <td>0</td>\n",
       "      <td>1</td>\n",
       "    </tr>\n",
       "    <tr>\n",
       "      <th>6961</th>\n",
       "      <td>L54140</td>\n",
       "      <td>L</td>\n",
       "      <td>300.7</td>\n",
       "      <td>311.0</td>\n",
       "      <td>1413</td>\n",
       "      <td>52.0</td>\n",
       "      <td>91</td>\n",
       "      <td>0</td>\n",
       "      <td>0</td>\n",
       "      <td>0</td>\n",
       "      <td>0</td>\n",
       "      <td>0</td>\n",
       "      <td>1</td>\n",
       "    </tr>\n",
       "    <tr>\n",
       "      <th>7489</th>\n",
       "      <td>L54668</td>\n",
       "      <td>L</td>\n",
       "      <td>300.3</td>\n",
       "      <td>311.7</td>\n",
       "      <td>1545</td>\n",
       "      <td>43.5</td>\n",
       "      <td>160</td>\n",
       "      <td>0</td>\n",
       "      <td>0</td>\n",
       "      <td>0</td>\n",
       "      <td>0</td>\n",
       "      <td>0</td>\n",
       "      <td>1</td>\n",
       "    </tr>\n",
       "    <tr>\n",
       "      <th>7869</th>\n",
       "      <td>H37282</td>\n",
       "      <td>H</td>\n",
       "      <td>300.4</td>\n",
       "      <td>311.9</td>\n",
       "      <td>1438</td>\n",
       "      <td>46.7</td>\n",
       "      <td>41</td>\n",
       "      <td>0</td>\n",
       "      <td>0</td>\n",
       "      <td>0</td>\n",
       "      <td>0</td>\n",
       "      <td>0</td>\n",
       "      <td>1</td>\n",
       "    </tr>\n",
       "  </tbody>\n",
       "</table>\n",
       "</div>"
      ],
      "text/plain": [
       "     Product ID Type  Air temperature [K]  Process temperature [K]  \\\n",
       "UDI                                                                  \n",
       "1222     M16081    M                297.0                    308.3   \n",
       "1303     L48482    L                298.6                    309.8   \n",
       "1749     H31162    H                298.4                    307.7   \n",
       "2073     L49252    L                299.6                    309.5   \n",
       "2560     L49739    L                299.3                    309.0   \n",
       "3066     M17925    M                300.1                    309.2   \n",
       "3453     H32866    H                301.6                    310.5   \n",
       "5472     L52651    L                302.7                    312.3   \n",
       "5490     L52669    L                302.6                    312.1   \n",
       "5496     H34909    H                302.9                    312.5   \n",
       "5510     L52689    L                302.8                    312.2   \n",
       "5554     L52733    L                302.5                    311.9   \n",
       "5640     L52819    L                302.6                    312.1   \n",
       "6092     L53271    L                300.9                    310.7   \n",
       "6914     L54093    L                300.8                    311.2   \n",
       "6961     L54140    L                300.7                    311.0   \n",
       "7489     L54668    L                300.3                    311.7   \n",
       "7869     H37282    H                300.4                    311.9   \n",
       "\n",
       "      Rotational speed [rpm]  Torque [Nm]  Tool wear [min]  Machine failure  \\\n",
       "UDI                                                                           \n",
       "1222                    1399         46.4              132                0   \n",
       "1303                    1505         45.7              144                0   \n",
       "1749                    1626         31.1              166                0   \n",
       "2073                    1570         35.5              189                0   \n",
       "2560                    1447         50.4              140                0   \n",
       "3066                    1687         27.7               95                0   \n",
       "3453                    1602         32.3                2                0   \n",
       "5472                    1346         61.2              170                0   \n",
       "5490                    1499         35.0              215                0   \n",
       "5496                    1357         55.0               12                0   \n",
       "5510                    1509         36.5               52                0   \n",
       "5554                    1306         59.7              172                0   \n",
       "5640                    1668         28.7              180                0   \n",
       "6092                    1412         57.5               16                0   \n",
       "6914                    1481         38.5              181                0   \n",
       "6961                    1413         52.0               91                0   \n",
       "7489                    1545         43.5              160                0   \n",
       "7869                    1438         46.7               41                0   \n",
       "\n",
       "      TWF  HDF  PWF  OSF  RNF  \n",
       "UDI                            \n",
       "1222    0    0    0    0    1  \n",
       "1303    0    0    0    0    1  \n",
       "1749    0    0    0    0    1  \n",
       "2073    0    0    0    0    1  \n",
       "2560    0    0    0    0    1  \n",
       "3066    0    0    0    0    1  \n",
       "3453    0    0    0    0    1  \n",
       "5472    0    0    0    0    1  \n",
       "5490    0    0    0    0    1  \n",
       "5496    0    0    0    0    1  \n",
       "5510    0    0    0    0    1  \n",
       "5554    0    0    0    0    1  \n",
       "5640    0    0    0    0    1  \n",
       "6092    0    0    0    0    1  \n",
       "6914    0    0    0    0    1  \n",
       "6961    0    0    0    0    1  \n",
       "7489    0    0    0    0    1  \n",
       "7869    0    0    0    0    1  "
      ]
     },
     "execution_count": 11,
     "metadata": {},
     "output_type": "execute_result"
    }
   ],
   "source": [
    "a_failure[a_failure['Machine failure'] == 0]"
   ]
  },
  {
   "cell_type": "markdown",
   "id": "156da3ab-e1fc-42d3-b03e-06fe7f842e57",
   "metadata": {
    "jp-MarkdownHeadingCollapsed": true,
    "tags": []
   },
   "source": [
    "### Suggested Filtering Method"
   ]
  },
  {
   "cell_type": "code",
   "execution_count": 94,
   "id": "483aa485-4e8e-449b-b3a0-95cfd5356fc5",
   "metadata": {
    "tags": []
   },
   "outputs": [],
   "source": [
    "# use np.where to plug in ones when HDF is true otherwise 0 for all other failures and non-failures\n",
    "df['target'] = np.where(df['HDF'] == 1, 1, 0)"
   ]
  },
  {
   "cell_type": "code",
   "execution_count": 96,
   "id": "04854c23-eb7e-428d-ab01-e61abccb16e0",
   "metadata": {
    "tags": []
   },
   "outputs": [
    {
     "data": {
      "text/html": [
       "<div>\n",
       "<style scoped>\n",
       "    .dataframe tbody tr th:only-of-type {\n",
       "        vertical-align: middle;\n",
       "    }\n",
       "\n",
       "    .dataframe tbody tr th {\n",
       "        vertical-align: top;\n",
       "    }\n",
       "\n",
       "    .dataframe thead th {\n",
       "        text-align: right;\n",
       "    }\n",
       "</style>\n",
       "<table border=\"1\" class=\"dataframe\">\n",
       "  <thead>\n",
       "    <tr style=\"text-align: right;\">\n",
       "      <th></th>\n",
       "      <th>Product ID</th>\n",
       "      <th>Type</th>\n",
       "      <th>Air temperature [K]</th>\n",
       "      <th>Process temperature [K]</th>\n",
       "      <th>Rotational speed [rpm]</th>\n",
       "      <th>Torque [Nm]</th>\n",
       "      <th>Tool wear [min]</th>\n",
       "      <th>Machine failure</th>\n",
       "      <th>TWF</th>\n",
       "      <th>HDF</th>\n",
       "      <th>PWF</th>\n",
       "      <th>OSF</th>\n",
       "      <th>RNF</th>\n",
       "      <th>target</th>\n",
       "    </tr>\n",
       "    <tr>\n",
       "      <th>UDI</th>\n",
       "      <th></th>\n",
       "      <th></th>\n",
       "      <th></th>\n",
       "      <th></th>\n",
       "      <th></th>\n",
       "      <th></th>\n",
       "      <th></th>\n",
       "      <th></th>\n",
       "      <th></th>\n",
       "      <th></th>\n",
       "      <th></th>\n",
       "      <th></th>\n",
       "      <th></th>\n",
       "      <th></th>\n",
       "    </tr>\n",
       "  </thead>\n",
       "  <tbody>\n",
       "    <tr>\n",
       "      <th>70</th>\n",
       "      <td>L47249</td>\n",
       "      <td>L</td>\n",
       "      <td>298.9</td>\n",
       "      <td>309.0</td>\n",
       "      <td>1410</td>\n",
       "      <td>65.7</td>\n",
       "      <td>191</td>\n",
       "      <td>1</td>\n",
       "      <td>0</td>\n",
       "      <td>0</td>\n",
       "      <td>1</td>\n",
       "      <td>1</td>\n",
       "      <td>0</td>\n",
       "      <td>0</td>\n",
       "    </tr>\n",
       "    <tr>\n",
       "      <th>161</th>\n",
       "      <td>L47340</td>\n",
       "      <td>L</td>\n",
       "      <td>298.4</td>\n",
       "      <td>308.2</td>\n",
       "      <td>1282</td>\n",
       "      <td>60.7</td>\n",
       "      <td>216</td>\n",
       "      <td>1</td>\n",
       "      <td>0</td>\n",
       "      <td>0</td>\n",
       "      <td>0</td>\n",
       "      <td>1</td>\n",
       "      <td>0</td>\n",
       "      <td>0</td>\n",
       "    </tr>\n",
       "    <tr>\n",
       "      <th>162</th>\n",
       "      <td>L47341</td>\n",
       "      <td>L</td>\n",
       "      <td>298.3</td>\n",
       "      <td>308.1</td>\n",
       "      <td>1412</td>\n",
       "      <td>52.3</td>\n",
       "      <td>218</td>\n",
       "      <td>1</td>\n",
       "      <td>0</td>\n",
       "      <td>0</td>\n",
       "      <td>0</td>\n",
       "      <td>1</td>\n",
       "      <td>0</td>\n",
       "      <td>0</td>\n",
       "    </tr>\n",
       "    <tr>\n",
       "      <th>243</th>\n",
       "      <td>L47422</td>\n",
       "      <td>L</td>\n",
       "      <td>298.0</td>\n",
       "      <td>308.2</td>\n",
       "      <td>1348</td>\n",
       "      <td>58.8</td>\n",
       "      <td>202</td>\n",
       "      <td>1</td>\n",
       "      <td>0</td>\n",
       "      <td>0</td>\n",
       "      <td>0</td>\n",
       "      <td>1</td>\n",
       "      <td>0</td>\n",
       "      <td>0</td>\n",
       "    </tr>\n",
       "    <tr>\n",
       "      <th>249</th>\n",
       "      <td>L47428</td>\n",
       "      <td>L</td>\n",
       "      <td>298.0</td>\n",
       "      <td>308.3</td>\n",
       "      <td>1362</td>\n",
       "      <td>56.8</td>\n",
       "      <td>216</td>\n",
       "      <td>1</td>\n",
       "      <td>0</td>\n",
       "      <td>0</td>\n",
       "      <td>0</td>\n",
       "      <td>1</td>\n",
       "      <td>0</td>\n",
       "      <td>0</td>\n",
       "    </tr>\n",
       "  </tbody>\n",
       "</table>\n",
       "</div>"
      ],
      "text/plain": [
       "    Product ID Type  Air temperature [K]  Process temperature [K]  \\\n",
       "UDI                                                                 \n",
       "70      L47249    L                298.9                    309.0   \n",
       "161     L47340    L                298.4                    308.2   \n",
       "162     L47341    L                298.3                    308.1   \n",
       "243     L47422    L                298.0                    308.2   \n",
       "249     L47428    L                298.0                    308.3   \n",
       "\n",
       "     Rotational speed [rpm]  Torque [Nm]  Tool wear [min]  Machine failure  \\\n",
       "UDI                                                                          \n",
       "70                     1410         65.7              191                1   \n",
       "161                    1282         60.7              216                1   \n",
       "162                    1412         52.3              218                1   \n",
       "243                    1348         58.8              202                1   \n",
       "249                    1362         56.8              216                1   \n",
       "\n",
       "     TWF  HDF  PWF  OSF  RNF  target  \n",
       "UDI                                   \n",
       "70     0    0    1    1    0       0  \n",
       "161    0    0    0    1    0       0  \n",
       "162    0    0    0    1    0       0  \n",
       "243    0    0    0    1    0       0  \n",
       "249    0    0    0    1    0       0  "
      ]
     },
     "execution_count": 96,
     "metadata": {},
     "output_type": "execute_result"
    }
   ],
   "source": [
    "df[df['OSF'] == 1].head()"
   ]
  },
  {
   "cell_type": "markdown",
   "id": "75e8a5b2-cb9f-4837-ae43-73451d5d2919",
   "metadata": {},
   "source": [
    "## preprocessing"
   ]
  },
  {
   "cell_type": "code",
   "execution_count": 97,
   "id": "0c19f4bd-96ab-4f41-a07a-8b7d9befafc7",
   "metadata": {
    "tags": []
   },
   "outputs": [],
   "source": [
    "# filtered data\n",
    "# only include HDF positive cases and non-machine failure cases\n",
    "hdf_df = df[(df['HDF']) | ((df['Machine failure'] == 0) & (df['RNF'] == 0))]"
   ]
  },
  {
   "cell_type": "code",
   "execution_count": 98,
   "id": "77c5a52e-7bd2-4c28-96ab-aeb9f1404a93",
   "metadata": {
    "tags": []
   },
   "outputs": [
    {
     "data": {
      "text/plain": [
       "0    9643\n",
       "1     115\n",
       "Name: HDF, dtype: int64"
      ]
     },
     "execution_count": 98,
     "metadata": {},
     "output_type": "execute_result"
    }
   ],
   "source": [
    "hdf_df['HDF'].value_counts()"
   ]
  },
  {
   "cell_type": "code",
   "execution_count": 99,
   "id": "51a8c09b-aaf2-4487-876c-6d52a83c72a2",
   "metadata": {
    "tags": []
   },
   "outputs": [
    {
     "data": {
      "text/plain": [
       "0    0.988215\n",
       "1    0.011785\n",
       "Name: HDF, dtype: float64"
      ]
     },
     "execution_count": 99,
     "metadata": {},
     "output_type": "execute_result"
    }
   ],
   "source": [
    "hdf_df['HDF'].value_counts(normalize=True)"
   ]
  },
  {
   "cell_type": "code",
   "execution_count": 100,
   "id": "f3bf7f94-0c28-4dc8-bc10-5a07a9035bc2",
   "metadata": {
    "tags": []
   },
   "outputs": [
    {
     "name": "stdout",
     "output_type": "stream",
     "text": [
      "Machine failure with no HDF: 0\n",
      "No machine failure with HDF: 0\n"
     ]
    }
   ],
   "source": [
    "print('Machine failure with no HDF:', hdf_df[(hdf_df['Machine failure'] == 1) & (hdf_df['HDF'] == 0)].shape[0])\n",
    "print('No machine failure with HDF:', hdf_df[(hdf_df['Machine failure'] == 0) & (hdf_df['HDF'] == 1)].shape[0])"
   ]
  },
  {
   "cell_type": "code",
   "execution_count": 101,
   "id": "662f29f1-f947-4284-96de-ea3708fc1af8",
   "metadata": {
    "tags": []
   },
   "outputs": [
    {
     "data": {
      "text/plain": [
       "Index(['Product ID', 'Type', 'Air temperature [K]', 'Process temperature [K]',\n",
       "       'Rotational speed [rpm]', 'Torque [Nm]', 'Tool wear [min]',\n",
       "       'Machine failure', 'TWF', 'HDF', 'PWF', 'OSF', 'RNF', 'target'],\n",
       "      dtype='object')"
      ]
     },
     "execution_count": 101,
     "metadata": {},
     "output_type": "execute_result"
    }
   ],
   "source": [
    "hdf_df.columns"
   ]
  },
  {
   "cell_type": "code",
   "execution_count": 102,
   "id": "29cbf5c6-c4e2-486f-be0a-673c579c9f07",
   "metadata": {
    "tags": []
   },
   "outputs": [
    {
     "data": {
      "text/html": [
       "<div>\n",
       "<style scoped>\n",
       "    .dataframe tbody tr th:only-of-type {\n",
       "        vertical-align: middle;\n",
       "    }\n",
       "\n",
       "    .dataframe tbody tr th {\n",
       "        vertical-align: top;\n",
       "    }\n",
       "\n",
       "    .dataframe thead th {\n",
       "        text-align: right;\n",
       "    }\n",
       "</style>\n",
       "<table border=\"1\" class=\"dataframe\">\n",
       "  <thead>\n",
       "    <tr style=\"text-align: right;\">\n",
       "      <th></th>\n",
       "      <th>Type</th>\n",
       "      <th>Air temperature [K]</th>\n",
       "      <th>Process temperature [K]</th>\n",
       "      <th>Rotational speed [rpm]</th>\n",
       "      <th>Torque [Nm]</th>\n",
       "      <th>Tool wear [min]</th>\n",
       "    </tr>\n",
       "    <tr>\n",
       "      <th>UDI</th>\n",
       "      <th></th>\n",
       "      <th></th>\n",
       "      <th></th>\n",
       "      <th></th>\n",
       "      <th></th>\n",
       "      <th></th>\n",
       "    </tr>\n",
       "  </thead>\n",
       "  <tbody>\n",
       "    <tr>\n",
       "      <th>1</th>\n",
       "      <td>1</td>\n",
       "      <td>298.1</td>\n",
       "      <td>308.6</td>\n",
       "      <td>1551</td>\n",
       "      <td>42.8</td>\n",
       "      <td>0</td>\n",
       "    </tr>\n",
       "    <tr>\n",
       "      <th>2</th>\n",
       "      <td>0</td>\n",
       "      <td>298.2</td>\n",
       "      <td>308.7</td>\n",
       "      <td>1408</td>\n",
       "      <td>46.3</td>\n",
       "      <td>3</td>\n",
       "    </tr>\n",
       "  </tbody>\n",
       "</table>\n",
       "</div>"
      ],
      "text/plain": [
       "     Type  Air temperature [K]  Process temperature [K]  \\\n",
       "UDI                                                       \n",
       "1       1                298.1                    308.6   \n",
       "2       0                298.2                    308.7   \n",
       "\n",
       "     Rotational speed [rpm]  Torque [Nm]  Tool wear [min]  \n",
       "UDI                                                        \n",
       "1                      1551         42.8                0  \n",
       "2                      1408         46.3                3  "
      ]
     },
     "execution_count": 102,
     "metadata": {},
     "output_type": "execute_result"
    }
   ],
   "source": [
    "X = hdf_df[['Type', 'Air temperature [K]', 'Process temperature [K]', 'Rotational speed [rpm]', 'Torque [Nm]', 'Tool wear [min]']].copy()\n",
    "X['Type'] = X['Type'].map({'L': 0, 'M': 1, 'H': 2})\n",
    "X.head(2)"
   ]
  },
  {
   "cell_type": "code",
   "execution_count": 104,
   "id": "d5c4d326-9514-4574-8bec-26d40c01fb5e",
   "metadata": {
    "tags": []
   },
   "outputs": [
    {
     "data": {
      "text/plain": [
       "0      117\n",
       "2       67\n",
       "5       62\n",
       "7       58\n",
       "59      58\n",
       "      ... \n",
       "236      1\n",
       "237      1\n",
       "239      1\n",
       "241      1\n",
       "246      1\n",
       "Name: Tool wear [min], Length: 243, dtype: int64"
      ]
     },
     "execution_count": 104,
     "metadata": {},
     "output_type": "execute_result"
    }
   ],
   "source": [
    "X['Tool wear [min]'].value_counts()"
   ]
  },
  {
   "cell_type": "code",
   "execution_count": 8,
   "id": "807a3102-e8a7-44ee-8b34-3e8834195887",
   "metadata": {
    "tags": []
   },
   "outputs": [],
   "source": [
    "y = hdf_df['HDF']"
   ]
  },
  {
   "cell_type": "code",
   "execution_count": 19,
   "id": "2eb0ad7b-b603-461c-a585-fd8ac55d91d1",
   "metadata": {
    "tags": []
   },
   "outputs": [],
   "source": [
    "X_train, X_test, y_train, y_test = train_test_split(X, y, test_size=0.25, random_state=RANDOM_SEED, stratify=y)"
   ]
  },
  {
   "cell_type": "code",
   "execution_count": 20,
   "id": "0db25535-af20-4379-8e61-e74e85c8a9ce",
   "metadata": {
    "tags": []
   },
   "outputs": [
    {
     "data": {
      "text/plain": [
       "0    0.988248\n",
       "1    0.011752\n",
       "Name: HDF, dtype: float64"
      ]
     },
     "execution_count": 20,
     "metadata": {},
     "output_type": "execute_result"
    }
   ],
   "source": [
    "y_train.value_counts(normalize=True)"
   ]
  },
  {
   "cell_type": "code",
   "execution_count": 21,
   "id": "f59fa965-36c6-41b9-bce7-0474b5648517",
   "metadata": {
    "tags": []
   },
   "outputs": [
    {
     "data": {
      "text/plain": [
       "0    0.988115\n",
       "1    0.011885\n",
       "Name: HDF, dtype: float64"
      ]
     },
     "execution_count": 21,
     "metadata": {},
     "output_type": "execute_result"
    }
   ],
   "source": [
    "y_test.value_counts(normalize=True)"
   ]
  },
  {
   "cell_type": "markdown",
   "id": "1bf379a4-f9e0-4798-aea6-f35fec3359f5",
   "metadata": {},
   "source": [
    "## random forest"
   ]
  },
  {
   "cell_type": "code",
   "execution_count": 22,
   "id": "5c885792-c477-4a9d-b9e3-86da76f6fabe",
   "metadata": {
    "tags": []
   },
   "outputs": [
    {
     "data": {
      "text/html": [
       "<style>#sk-container-id-2 {color: black;background-color: white;}#sk-container-id-2 pre{padding: 0;}#sk-container-id-2 div.sk-toggleable {background-color: white;}#sk-container-id-2 label.sk-toggleable__label {cursor: pointer;display: block;width: 100%;margin-bottom: 0;padding: 0.3em;box-sizing: border-box;text-align: center;}#sk-container-id-2 label.sk-toggleable__label-arrow:before {content: \"▸\";float: left;margin-right: 0.25em;color: #696969;}#sk-container-id-2 label.sk-toggleable__label-arrow:hover:before {color: black;}#sk-container-id-2 div.sk-estimator:hover label.sk-toggleable__label-arrow:before {color: black;}#sk-container-id-2 div.sk-toggleable__content {max-height: 0;max-width: 0;overflow: hidden;text-align: left;background-color: #f0f8ff;}#sk-container-id-2 div.sk-toggleable__content pre {margin: 0.2em;color: black;border-radius: 0.25em;background-color: #f0f8ff;}#sk-container-id-2 input.sk-toggleable__control:checked~div.sk-toggleable__content {max-height: 200px;max-width: 100%;overflow: auto;}#sk-container-id-2 input.sk-toggleable__control:checked~label.sk-toggleable__label-arrow:before {content: \"▾\";}#sk-container-id-2 div.sk-estimator input.sk-toggleable__control:checked~label.sk-toggleable__label {background-color: #d4ebff;}#sk-container-id-2 div.sk-label input.sk-toggleable__control:checked~label.sk-toggleable__label {background-color: #d4ebff;}#sk-container-id-2 input.sk-hidden--visually {border: 0;clip: rect(1px 1px 1px 1px);clip: rect(1px, 1px, 1px, 1px);height: 1px;margin: -1px;overflow: hidden;padding: 0;position: absolute;width: 1px;}#sk-container-id-2 div.sk-estimator {font-family: monospace;background-color: #f0f8ff;border: 1px dotted black;border-radius: 0.25em;box-sizing: border-box;margin-bottom: 0.5em;}#sk-container-id-2 div.sk-estimator:hover {background-color: #d4ebff;}#sk-container-id-2 div.sk-parallel-item::after {content: \"\";width: 100%;border-bottom: 1px solid gray;flex-grow: 1;}#sk-container-id-2 div.sk-label:hover label.sk-toggleable__label {background-color: #d4ebff;}#sk-container-id-2 div.sk-serial::before {content: \"\";position: absolute;border-left: 1px solid gray;box-sizing: border-box;top: 0;bottom: 0;left: 50%;z-index: 0;}#sk-container-id-2 div.sk-serial {display: flex;flex-direction: column;align-items: center;background-color: white;padding-right: 0.2em;padding-left: 0.2em;position: relative;}#sk-container-id-2 div.sk-item {position: relative;z-index: 1;}#sk-container-id-2 div.sk-parallel {display: flex;align-items: stretch;justify-content: center;background-color: white;position: relative;}#sk-container-id-2 div.sk-item::before, #sk-container-id-2 div.sk-parallel-item::before {content: \"\";position: absolute;border-left: 1px solid gray;box-sizing: border-box;top: 0;bottom: 0;left: 50%;z-index: -1;}#sk-container-id-2 div.sk-parallel-item {display: flex;flex-direction: column;z-index: 1;position: relative;background-color: white;}#sk-container-id-2 div.sk-parallel-item:first-child::after {align-self: flex-end;width: 50%;}#sk-container-id-2 div.sk-parallel-item:last-child::after {align-self: flex-start;width: 50%;}#sk-container-id-2 div.sk-parallel-item:only-child::after {width: 0;}#sk-container-id-2 div.sk-dashed-wrapped {border: 1px dashed gray;margin: 0 0.4em 0.5em 0.4em;box-sizing: border-box;padding-bottom: 0.4em;background-color: white;}#sk-container-id-2 div.sk-label label {font-family: monospace;font-weight: bold;display: inline-block;line-height: 1.2em;}#sk-container-id-2 div.sk-label-container {text-align: center;}#sk-container-id-2 div.sk-container {/* jupyter's `normalize.less` sets `[hidden] { display: none; }` but bootstrap.min.css set `[hidden] { display: none !important; }` so we also need the `!important` here to be able to override the default hidden behavior on the sphinx rendered scikit-learn.org. See: https://github.com/scikit-learn/scikit-learn/issues/21755 */display: inline-block !important;position: relative;}#sk-container-id-2 div.sk-text-repr-fallback {display: none;}</style><div id=\"sk-container-id-2\" class=\"sk-top-container\"><div class=\"sk-text-repr-fallback\"><pre>RandomForestClassifier(random_state=42)</pre><b>In a Jupyter environment, please rerun this cell to show the HTML representation or trust the notebook. <br />On GitHub, the HTML representation is unable to render, please try loading this page with nbviewer.org.</b></div><div class=\"sk-container\" hidden><div class=\"sk-item\"><div class=\"sk-estimator sk-toggleable\"><input class=\"sk-toggleable__control sk-hidden--visually\" id=\"sk-estimator-id-2\" type=\"checkbox\" checked><label for=\"sk-estimator-id-2\" class=\"sk-toggleable__label sk-toggleable__label-arrow\">RandomForestClassifier</label><div class=\"sk-toggleable__content\"><pre>RandomForestClassifier(random_state=42)</pre></div></div></div></div></div>"
      ],
      "text/plain": [
       "RandomForestClassifier(random_state=42)"
      ]
     },
     "execution_count": 22,
     "metadata": {},
     "output_type": "execute_result"
    }
   ],
   "source": [
    "model = RandomForestClassifier(random_state=RANDOM_SEED)\n",
    "model.fit(X_train, y_train)"
   ]
  },
  {
   "cell_type": "markdown",
   "id": "4dcf38c4-6b0f-4346-88f6-865f72215c25",
   "metadata": {},
   "source": [
    "## testing accuracy"
   ]
  },
  {
   "cell_type": "code",
   "execution_count": 80,
   "id": "091be38d-dc30-4cd0-bd38-d331c924f467",
   "metadata": {
    "tags": []
   },
   "outputs": [],
   "source": [
    "def calculate_and_display_accuracy(model, X_train, y_train, X_test, y_test, verbose: bool=True, rounding: int=4) -> list:\n",
    "    model_train_accuracy = accuracy_score(y_train, model.predict(X_train))\n",
    "    model_test_accuracy = accuracy_score(y_test, model.predict(X_test))\n",
    "    baseline_train_accuracy = y_train.value_counts(normalize=True)[0]\n",
    "    baseline_test_accuracy = y_test.value_counts(normalize=True)[0]\n",
    "    if verbose:\n",
    "        print(f'{\"Model Training accuracy:\":<58} {round(model_train_accuracy, rounding)}')\n",
    "        print(f'{\"Model Test accuracy:\":<58} {round(model_test_accuracy, rounding)}')\n",
    "        print(f'{\"Baseline, Naive model (always guess 0) training accuracy:\":<58} {round(baseline_train_accuracy, rounding)}')\n",
    "        print(f'{\"Baseline, Naive model (always guess 0) test accuracy:\":<58} {round(baseline_test_accuracy, rounding)}')\n",
    "    return model_train_accuracy, model_test_accuracy, baseline_train_accuracy, baseline_test_accuracy"
   ]
  },
  {
   "cell_type": "code",
   "execution_count": 81,
   "id": "67d2aaa2-529e-46bb-90bb-6486464bb73b",
   "metadata": {
    "tags": []
   },
   "outputs": [
    {
     "name": "stdout",
     "output_type": "stream",
     "text": [
      "Model Training accuracy:                                   1.0\n",
      "Model Test accuracy:                                       0.9951\n",
      "Baseline, Naive model (always guess 0) training accuracy:  0.9882\n",
      "Baseline, Naive model (always guess 0) test accuracy:      0.9881\n"
     ]
    },
    {
     "data": {
      "text/plain": [
       "(1.0, 0.9950819672131147, 0.9882481552336704, 0.9881147540983607)"
      ]
     },
     "execution_count": 81,
     "metadata": {},
     "output_type": "execute_result"
    }
   ],
   "source": [
    "calculate_and_display_accuracy(model, X_train, y_train, X_test, y_test)"
   ]
  },
  {
   "cell_type": "markdown",
   "id": "cfb48f12-c81a-490d-9eea-380c0fa03ec1",
   "metadata": {
    "tags": []
   },
   "source": [
    "## SMOTE and ADASYN (maybe TOMEC links?)"
   ]
  },
  {
   "cell_type": "markdown",
   "id": "43e8b272-0beb-4af5-b86f-ef0775cd5dae",
   "metadata": {},
   "source": [
    "### SMOTE"
   ]
  },
  {
   "cell_type": "code",
   "execution_count": 88,
   "id": "fa6351aa-800b-4c83-8d2b-df4f5a5aefb1",
   "metadata": {
    "tags": []
   },
   "outputs": [],
   "source": [
    "smote_resampler = SMOTE(random_state=RANDOM_SEED)\n",
    "X_train_smote, y_train_smote = smote_resampler.fit_resample(X_train, y_train)"
   ]
  },
  {
   "cell_type": "code",
   "execution_count": 89,
   "id": "148e74b7-77bc-4f67-879c-262e5ccdad99",
   "metadata": {
    "tags": []
   },
   "outputs": [
    {
     "data": {
      "text/html": [
       "<style>#sk-container-id-5 {color: black;background-color: white;}#sk-container-id-5 pre{padding: 0;}#sk-container-id-5 div.sk-toggleable {background-color: white;}#sk-container-id-5 label.sk-toggleable__label {cursor: pointer;display: block;width: 100%;margin-bottom: 0;padding: 0.3em;box-sizing: border-box;text-align: center;}#sk-container-id-5 label.sk-toggleable__label-arrow:before {content: \"▸\";float: left;margin-right: 0.25em;color: #696969;}#sk-container-id-5 label.sk-toggleable__label-arrow:hover:before {color: black;}#sk-container-id-5 div.sk-estimator:hover label.sk-toggleable__label-arrow:before {color: black;}#sk-container-id-5 div.sk-toggleable__content {max-height: 0;max-width: 0;overflow: hidden;text-align: left;background-color: #f0f8ff;}#sk-container-id-5 div.sk-toggleable__content pre {margin: 0.2em;color: black;border-radius: 0.25em;background-color: #f0f8ff;}#sk-container-id-5 input.sk-toggleable__control:checked~div.sk-toggleable__content {max-height: 200px;max-width: 100%;overflow: auto;}#sk-container-id-5 input.sk-toggleable__control:checked~label.sk-toggleable__label-arrow:before {content: \"▾\";}#sk-container-id-5 div.sk-estimator input.sk-toggleable__control:checked~label.sk-toggleable__label {background-color: #d4ebff;}#sk-container-id-5 div.sk-label input.sk-toggleable__control:checked~label.sk-toggleable__label {background-color: #d4ebff;}#sk-container-id-5 input.sk-hidden--visually {border: 0;clip: rect(1px 1px 1px 1px);clip: rect(1px, 1px, 1px, 1px);height: 1px;margin: -1px;overflow: hidden;padding: 0;position: absolute;width: 1px;}#sk-container-id-5 div.sk-estimator {font-family: monospace;background-color: #f0f8ff;border: 1px dotted black;border-radius: 0.25em;box-sizing: border-box;margin-bottom: 0.5em;}#sk-container-id-5 div.sk-estimator:hover {background-color: #d4ebff;}#sk-container-id-5 div.sk-parallel-item::after {content: \"\";width: 100%;border-bottom: 1px solid gray;flex-grow: 1;}#sk-container-id-5 div.sk-label:hover label.sk-toggleable__label {background-color: #d4ebff;}#sk-container-id-5 div.sk-serial::before {content: \"\";position: absolute;border-left: 1px solid gray;box-sizing: border-box;top: 0;bottom: 0;left: 50%;z-index: 0;}#sk-container-id-5 div.sk-serial {display: flex;flex-direction: column;align-items: center;background-color: white;padding-right: 0.2em;padding-left: 0.2em;position: relative;}#sk-container-id-5 div.sk-item {position: relative;z-index: 1;}#sk-container-id-5 div.sk-parallel {display: flex;align-items: stretch;justify-content: center;background-color: white;position: relative;}#sk-container-id-5 div.sk-item::before, #sk-container-id-5 div.sk-parallel-item::before {content: \"\";position: absolute;border-left: 1px solid gray;box-sizing: border-box;top: 0;bottom: 0;left: 50%;z-index: -1;}#sk-container-id-5 div.sk-parallel-item {display: flex;flex-direction: column;z-index: 1;position: relative;background-color: white;}#sk-container-id-5 div.sk-parallel-item:first-child::after {align-self: flex-end;width: 50%;}#sk-container-id-5 div.sk-parallel-item:last-child::after {align-self: flex-start;width: 50%;}#sk-container-id-5 div.sk-parallel-item:only-child::after {width: 0;}#sk-container-id-5 div.sk-dashed-wrapped {border: 1px dashed gray;margin: 0 0.4em 0.5em 0.4em;box-sizing: border-box;padding-bottom: 0.4em;background-color: white;}#sk-container-id-5 div.sk-label label {font-family: monospace;font-weight: bold;display: inline-block;line-height: 1.2em;}#sk-container-id-5 div.sk-label-container {text-align: center;}#sk-container-id-5 div.sk-container {/* jupyter's `normalize.less` sets `[hidden] { display: none; }` but bootstrap.min.css set `[hidden] { display: none !important; }` so we also need the `!important` here to be able to override the default hidden behavior on the sphinx rendered scikit-learn.org. See: https://github.com/scikit-learn/scikit-learn/issues/21755 */display: inline-block !important;position: relative;}#sk-container-id-5 div.sk-text-repr-fallback {display: none;}</style><div id=\"sk-container-id-5\" class=\"sk-top-container\"><div class=\"sk-text-repr-fallback\"><pre>RandomForestClassifier(random_state=42)</pre><b>In a Jupyter environment, please rerun this cell to show the HTML representation or trust the notebook. <br />On GitHub, the HTML representation is unable to render, please try loading this page with nbviewer.org.</b></div><div class=\"sk-container\" hidden><div class=\"sk-item\"><div class=\"sk-estimator sk-toggleable\"><input class=\"sk-toggleable__control sk-hidden--visually\" id=\"sk-estimator-id-5\" type=\"checkbox\" checked><label for=\"sk-estimator-id-5\" class=\"sk-toggleable__label sk-toggleable__label-arrow\">RandomForestClassifier</label><div class=\"sk-toggleable__content\"><pre>RandomForestClassifier(random_state=42)</pre></div></div></div></div></div>"
      ],
      "text/plain": [
       "RandomForestClassifier(random_state=42)"
      ]
     },
     "execution_count": 89,
     "metadata": {},
     "output_type": "execute_result"
    }
   ],
   "source": [
    "smote_rf = RandomForestClassifier(random_state=RANDOM_SEED)\n",
    "smote_rf.fit(X_train_smote, y_train_smote)"
   ]
  },
  {
   "cell_type": "code",
   "execution_count": 90,
   "id": "0f69e39d-68e1-48e3-ae52-1ddf349dd6c6",
   "metadata": {
    "tags": []
   },
   "outputs": [
    {
     "name": "stdout",
     "output_type": "stream",
     "text": [
      "Model Training accuracy:                                   1.0\n",
      "Model Test accuracy:                                       0.9943\n",
      "Baseline, Naive model (always guess 0) training accuracy:  0.9882\n",
      "Baseline, Naive model (always guess 0) test accuracy:      0.9881\n"
     ]
    },
    {
     "data": {
      "text/plain": [
       "(1.0, 0.9942622950819672, 0.9882481552336704, 0.9881147540983607)"
      ]
     },
     "execution_count": 90,
     "metadata": {},
     "output_type": "execute_result"
    }
   ],
   "source": [
    "calculate_and_display_accuracy(smote_rf, X_train, y_train, X_test, y_test)"
   ]
  },
  {
   "cell_type": "markdown",
   "id": "40e7c1dc-7413-4269-bbb4-67db66c7a0f8",
   "metadata": {
    "tags": []
   },
   "source": [
    "### ADASYN"
   ]
  },
  {
   "cell_type": "code",
   "execution_count": 91,
   "id": "7a4e25c0-6120-4f25-90d8-495cfc6d7e4e",
   "metadata": {
    "tags": []
   },
   "outputs": [],
   "source": [
    "adasyn_resampler = ADASYN(random_state=RANDOM_SEED)\n",
    "X_train_adasyn, y_train_adasyn = adasyn_resampler.fit_resample(X_train, y_train)"
   ]
  },
  {
   "cell_type": "code",
   "execution_count": 92,
   "id": "69da4086-78db-4391-875c-4c1e64d97f2a",
   "metadata": {
    "tags": []
   },
   "outputs": [
    {
     "data": {
      "text/html": [
       "<style>#sk-container-id-6 {color: black;background-color: white;}#sk-container-id-6 pre{padding: 0;}#sk-container-id-6 div.sk-toggleable {background-color: white;}#sk-container-id-6 label.sk-toggleable__label {cursor: pointer;display: block;width: 100%;margin-bottom: 0;padding: 0.3em;box-sizing: border-box;text-align: center;}#sk-container-id-6 label.sk-toggleable__label-arrow:before {content: \"▸\";float: left;margin-right: 0.25em;color: #696969;}#sk-container-id-6 label.sk-toggleable__label-arrow:hover:before {color: black;}#sk-container-id-6 div.sk-estimator:hover label.sk-toggleable__label-arrow:before {color: black;}#sk-container-id-6 div.sk-toggleable__content {max-height: 0;max-width: 0;overflow: hidden;text-align: left;background-color: #f0f8ff;}#sk-container-id-6 div.sk-toggleable__content pre {margin: 0.2em;color: black;border-radius: 0.25em;background-color: #f0f8ff;}#sk-container-id-6 input.sk-toggleable__control:checked~div.sk-toggleable__content {max-height: 200px;max-width: 100%;overflow: auto;}#sk-container-id-6 input.sk-toggleable__control:checked~label.sk-toggleable__label-arrow:before {content: \"▾\";}#sk-container-id-6 div.sk-estimator input.sk-toggleable__control:checked~label.sk-toggleable__label {background-color: #d4ebff;}#sk-container-id-6 div.sk-label input.sk-toggleable__control:checked~label.sk-toggleable__label {background-color: #d4ebff;}#sk-container-id-6 input.sk-hidden--visually {border: 0;clip: rect(1px 1px 1px 1px);clip: rect(1px, 1px, 1px, 1px);height: 1px;margin: -1px;overflow: hidden;padding: 0;position: absolute;width: 1px;}#sk-container-id-6 div.sk-estimator {font-family: monospace;background-color: #f0f8ff;border: 1px dotted black;border-radius: 0.25em;box-sizing: border-box;margin-bottom: 0.5em;}#sk-container-id-6 div.sk-estimator:hover {background-color: #d4ebff;}#sk-container-id-6 div.sk-parallel-item::after {content: \"\";width: 100%;border-bottom: 1px solid gray;flex-grow: 1;}#sk-container-id-6 div.sk-label:hover label.sk-toggleable__label {background-color: #d4ebff;}#sk-container-id-6 div.sk-serial::before {content: \"\";position: absolute;border-left: 1px solid gray;box-sizing: border-box;top: 0;bottom: 0;left: 50%;z-index: 0;}#sk-container-id-6 div.sk-serial {display: flex;flex-direction: column;align-items: center;background-color: white;padding-right: 0.2em;padding-left: 0.2em;position: relative;}#sk-container-id-6 div.sk-item {position: relative;z-index: 1;}#sk-container-id-6 div.sk-parallel {display: flex;align-items: stretch;justify-content: center;background-color: white;position: relative;}#sk-container-id-6 div.sk-item::before, #sk-container-id-6 div.sk-parallel-item::before {content: \"\";position: absolute;border-left: 1px solid gray;box-sizing: border-box;top: 0;bottom: 0;left: 50%;z-index: -1;}#sk-container-id-6 div.sk-parallel-item {display: flex;flex-direction: column;z-index: 1;position: relative;background-color: white;}#sk-container-id-6 div.sk-parallel-item:first-child::after {align-self: flex-end;width: 50%;}#sk-container-id-6 div.sk-parallel-item:last-child::after {align-self: flex-start;width: 50%;}#sk-container-id-6 div.sk-parallel-item:only-child::after {width: 0;}#sk-container-id-6 div.sk-dashed-wrapped {border: 1px dashed gray;margin: 0 0.4em 0.5em 0.4em;box-sizing: border-box;padding-bottom: 0.4em;background-color: white;}#sk-container-id-6 div.sk-label label {font-family: monospace;font-weight: bold;display: inline-block;line-height: 1.2em;}#sk-container-id-6 div.sk-label-container {text-align: center;}#sk-container-id-6 div.sk-container {/* jupyter's `normalize.less` sets `[hidden] { display: none; }` but bootstrap.min.css set `[hidden] { display: none !important; }` so we also need the `!important` here to be able to override the default hidden behavior on the sphinx rendered scikit-learn.org. See: https://github.com/scikit-learn/scikit-learn/issues/21755 */display: inline-block !important;position: relative;}#sk-container-id-6 div.sk-text-repr-fallback {display: none;}</style><div id=\"sk-container-id-6\" class=\"sk-top-container\"><div class=\"sk-text-repr-fallback\"><pre>RandomForestClassifier(random_state=42)</pre><b>In a Jupyter environment, please rerun this cell to show the HTML representation or trust the notebook. <br />On GitHub, the HTML representation is unable to render, please try loading this page with nbviewer.org.</b></div><div class=\"sk-container\" hidden><div class=\"sk-item\"><div class=\"sk-estimator sk-toggleable\"><input class=\"sk-toggleable__control sk-hidden--visually\" id=\"sk-estimator-id-6\" type=\"checkbox\" checked><label for=\"sk-estimator-id-6\" class=\"sk-toggleable__label sk-toggleable__label-arrow\">RandomForestClassifier</label><div class=\"sk-toggleable__content\"><pre>RandomForestClassifier(random_state=42)</pre></div></div></div></div></div>"
      ],
      "text/plain": [
       "RandomForestClassifier(random_state=42)"
      ]
     },
     "execution_count": 92,
     "metadata": {},
     "output_type": "execute_result"
    }
   ],
   "source": [
    "adasyn_rf = RandomForestClassifier(random_state=RANDOM_SEED)\n",
    "adasyn_rf.fit(X_train_adasyn, y_train_adasyn)"
   ]
  },
  {
   "cell_type": "code",
   "execution_count": 93,
   "id": "2bbe8073-f584-4c7d-81a0-ea641f086fe5",
   "metadata": {
    "tags": []
   },
   "outputs": [
    {
     "name": "stdout",
     "output_type": "stream",
     "text": [
      "Model Training accuracy:                                   1.0\n",
      "Model Test accuracy:                                       0.9955\n",
      "Baseline, Naive model (always guess 0) training accuracy:  0.9882\n",
      "Baseline, Naive model (always guess 0) test accuracy:      0.9881\n"
     ]
    },
    {
     "data": {
      "text/plain": [
       "(1.0, 0.9954918032786885, 0.9882481552336704, 0.9881147540983607)"
      ]
     },
     "execution_count": 93,
     "metadata": {},
     "output_type": "execute_result"
    }
   ],
   "source": [
    "calculate_and_display_accuracy(adasyn_rf, X_train, y_train, X_test, y_test)"
   ]
  },
  {
   "cell_type": "code",
   "execution_count": null,
   "id": "eb5db4b2-dcf0-49e3-adf0-386043e98180",
   "metadata": {},
   "outputs": [],
   "source": []
  }
 ],
 "metadata": {
  "kernelspec": {
   "display_name": "Python 3 (ipykernel)",
   "language": "python",
   "name": "python3"
  },
  "language_info": {
   "codemirror_mode": {
    "name": "ipython",
    "version": 3
   },
   "file_extension": ".py",
   "mimetype": "text/x-python",
   "name": "python",
   "nbconvert_exporter": "python",
   "pygments_lexer": "ipython3",
   "version": "3.11.4"
  }
 },
 "nbformat": 4,
 "nbformat_minor": 5
}
